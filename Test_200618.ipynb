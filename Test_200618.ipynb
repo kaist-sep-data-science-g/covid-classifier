{
  "nbformat": 4,
  "nbformat_minor": 0,
  "metadata": {
    "colab": {
      "name": "Test_200618.ipynb",
      "provenance": [],
      "collapsed_sections": [],
      "include_colab_link": true
    },
    "kernelspec": {
      "name": "python3",
      "display_name": "Python 3"
    },
    "accelerator": "GPU"
  },
  "cells": [
    {
      "cell_type": "markdown",
      "metadata": {
        "id": "view-in-github",
        "colab_type": "text"
      },
      "source": [
        "<a href=\"https://colab.research.google.com/github/kaist-sep-data-science-g/covid-classifier/blob/master/Test_200618.ipynb\" target=\"_parent\"><img src=\"https://colab.research.google.com/assets/colab-badge.svg\" alt=\"Open In Colab\"/></a>"
      ]
    },
    {
      "cell_type": "code",
      "metadata": {
        "id": "IGitm6nbVo2A",
        "colab_type": "code",
        "colab": {
          "base_uri": "https://localhost:8080/",
          "height": 35
        },
        "outputId": "26311d57-8e90-47ef-e2e6-fdc0c9d7087e"
      },
      "source": [
        "from google.colab import drive\n",
        "\n",
        "drive.mount('/content/gdrive')"
      ],
      "execution_count": null,
      "outputs": [
        {
          "output_type": "stream",
          "text": [
            "Drive already mounted at /content/gdrive; to attempt to forcibly remount, call drive.mount(\"/content/gdrive\", force_remount=True).\n"
          ],
          "name": "stdout"
        }
      ]
    },
    {
      "cell_type": "code",
      "metadata": {
        "id": "sfT32bA0MVxt",
        "colab_type": "code",
        "colab": {
          "base_uri": "https://localhost:8080/",
          "height": 508
        },
        "outputId": "10995a1e-33a6-41db-aecc-72cc5452f2d8"
      },
      "source": [
        "#np.load 사용할때 에러 발생\n",
        "#ValueError: Object arrays cannot be loaded when allow_pickle=False\n",
        "!pip uninstall numpy\n",
        "!pip install --upgrade numpy==1.16.1"
      ],
      "execution_count": null,
      "outputs": [
        {
          "output_type": "stream",
          "text": [
            "Uninstalling numpy-1.18.5:\n",
            "  Would remove:\n",
            "    /usr/bin/f2py\n",
            "    /usr/bin/f2py3\n",
            "    /usr/bin/f2py3.6\n",
            "    /usr/local/bin/f2py\n",
            "    /usr/local/bin/f2py3\n",
            "    /usr/local/bin/f2py3.6\n",
            "    /usr/local/lib/python3.6/dist-packages/numpy-1.18.5.dist-info/*\n",
            "    /usr/local/lib/python3.6/dist-packages/numpy.libs/libgfortran-ed201abd.so.3.0.0\n",
            "    /usr/local/lib/python3.6/dist-packages/numpy.libs/libopenblasp-r0-34a18dc3.3.7.so\n",
            "    /usr/local/lib/python3.6/dist-packages/numpy/*\n",
            "Proceed (y/n)? y\n",
            "  Successfully uninstalled numpy-1.18.5\n",
            "Collecting numpy==1.16.1\n",
            "\u001b[?25l  Downloading https://files.pythonhosted.org/packages/f5/bf/4981bcbee43934f0adb8f764a1e70ab0ee5a448f6505bd04a87a2fda2a8b/numpy-1.16.1-cp36-cp36m-manylinux1_x86_64.whl (17.3MB)\n",
            "\u001b[K     |████████████████████████████████| 17.3MB 200kB/s \n",
            "\u001b[31mERROR: umap-learn 0.4.4 has requirement numpy>=1.17, but you'll have numpy 1.16.1 which is incompatible.\u001b[0m\n",
            "\u001b[31mERROR: datascience 0.10.6 has requirement folium==0.2.1, but you'll have folium 0.8.3 which is incompatible.\u001b[0m\n",
            "\u001b[31mERROR: albumentations 0.1.12 has requirement imgaug<0.2.7,>=0.2.5, but you'll have imgaug 0.2.9 which is incompatible.\u001b[0m\n",
            "\u001b[?25hInstalling collected packages: numpy\n",
            "Successfully installed numpy-1.16.1\n"
          ],
          "name": "stdout"
        },
        {
          "output_type": "display_data",
          "data": {
            "application/vnd.colab-display-data+json": {
              "pip_warning": {
                "packages": [
                  "numpy"
                ]
              }
            }
          },
          "metadata": {
            "tags": []
          }
        }
      ]
    },
    {
      "cell_type": "code",
      "metadata": {
        "id": "8q_IXF52Ml93",
        "colab_type": "code",
        "colab": {
          "base_uri": "https://localhost:8080/",
          "height": 35
        },
        "outputId": "3ab8b45d-f125-411b-a08d-b71ac17a2143"
      },
      "source": [
        "import os, glob, numpy as np\n",
        "np.__version__"
      ],
      "execution_count": null,
      "outputs": [
        {
          "output_type": "execute_result",
          "data": {
            "text/plain": [
              "'1.16.1'"
            ]
          },
          "metadata": {
            "tags": []
          },
          "execution_count": 2
        }
      ]
    },
    {
      "cell_type": "code",
      "metadata": {
        "id": "MmXJGHqOiwqG",
        "colab_type": "code",
        "colab": {
          "base_uri": "https://localhost:8080/",
          "height": 235
        },
        "outputId": "581d1409-08fe-4139-b369-b0f4232ec248"
      },
      "source": [
        "from PIL import Image\n",
        "import os, glob, numpy as np\n",
        "from sklearn.model_selection import train_test_split\n",
        "\n",
        "file_dir = \"/content/gdrive/My Drive/Colab Notebooks/DataScienceProject/Coronahack-Chest-XRay-Dataset/train\"\n",
        "categories = [\"Pnemonia_Virus_COVID\", \"Pnemonia_Virus_Unknown\", \"Pnemonia_Bacteria\", \"Normal\"]\n",
        "\n",
        "nb_classes = len(categories)\n",
        "\n",
        "image_w = 224\n",
        "image_h = 224\n",
        "\n",
        "pixels = image_h * image_w * 3\n",
        "\n",
        "X = []\n",
        "y = []\n",
        "\n",
        "for idx, cat in enumerate(categories):\n",
        "  #one-hot 돌리기.\n",
        "  label = [0 for i in range(nb_classes)]\n",
        "  label[idx] = 1\n",
        "\n",
        "  image_dir = file_dir + \"/\" + cat\n",
        "  files = glob.glob(image_dir+\"/*.*\")\n",
        "  #files = files[:1300]\n",
        "  print(cat, \" 파일 개수 : \", len(files))\n",
        "\n",
        "  y.append(label)\n",
        "  z = np.array(y)\n",
        "  print(z[idx])\n",
        "  print(label)"
      ],
      "execution_count": null,
      "outputs": [
        {
          "output_type": "stream",
          "text": [
            "Pnemonia_Virus_COVID  파일 개수 :  58\n",
            "[1 0 0 0]\n",
            "[1, 0, 0, 0]\n",
            "Pnemonia_Virus_Unknown  파일 개수 :  1300\n",
            "[0 1 0 0]\n",
            "[0, 1, 0, 0]\n",
            "Pnemonia_Bacteria  파일 개수 :  1300\n",
            "[0 0 1 0]\n",
            "[0, 0, 1, 0]\n",
            "Normal  파일 개수 :  1300\n",
            "[0 0 0 1]\n",
            "[0, 0, 0, 1]\n"
          ],
          "name": "stdout"
        }
      ]
    },
    {
      "cell_type": "code",
      "metadata": {
        "id": "uZZ5x5zg33hx",
        "colab_type": "code",
        "colab": {
          "base_uri": "https://localhost:8080/",
          "height": 108
        },
        "outputId": "49dca971-64b2-4453-e567-95ebde8dec47"
      },
      "source": [
        "#multi_image_data.npy 생성했으면 다시 실행안해도 됨\n",
        "from PIL import Image\n",
        "import os, glob, numpy as np\n",
        "from sklearn.model_selection import train_test_split\n",
        "\n",
        "file_dir = \"/content/gdrive/My Drive/Colab Notebooks/DataScienceProject/Coronahack-Chest-XRay-Dataset/train\"\n",
        "categories = [\"Pnemonia_Virus_COVID\", \"Pnemonia_Virus_Unknown\", \"Pnemonia_Bacteria\", \"Normal\"]\n",
        "\n",
        "nb_classes = len(categories)\n",
        "\n",
        "image_w = 224\n",
        "image_h = 224\n",
        "\n",
        "pixels = image_h * image_w * 3\n",
        "\n",
        "X = []\n",
        "y = []\n",
        "\n",
        "for idx, cat in enumerate(categories):\n",
        "    #one-hot 돌리기.\n",
        "    label = [0 for i in range(nb_classes)]\n",
        "    label[idx] = 1\n",
        "\n",
        "    image_dir = file_dir + \"/\" + cat\n",
        "    files = glob.glob(image_dir+\"/*.*\")\n",
        "    #files = files[:1300]\n",
        "    print(cat, \" 파일 개수 : \", len(files))\n",
        "\n",
        "    for i, f in enumerate(files):\n",
        "        img = Image.open(f)\n",
        "        img = img.convert(\"RGB\")\n",
        "        img = img.resize((image_w, image_h))\n",
        "        data = np.asarray(img)\n",
        "\n",
        "        X.append(data)\n",
        "        y.append(label)\n",
        "\n",
        "        #if i % 700 == 0:\n",
        "        #    print(cat, \" : \", f)\n",
        "\n",
        "X = np.array(X)\n",
        "y = np.array(y)\n",
        "#1 0 0 0 이면 airplanes\n",
        "#0 1 0 0 이면 buddha 이런식\n",
        "\n",
        "X_train, X_test, y_train, y_test = train_test_split(X, y)\n",
        "xy = (X_train, X_test, y_train, y_test)\n",
        "np.save(\"/content/gdrive/My Drive/Colab Notebooks/DataScienceProject/Coronahack-Chest-XRay-Dataset/multi_image_data_1300.npy\", xy)\n",
        "\n",
        "print(\"ok\", len(y))"
      ],
      "execution_count": null,
      "outputs": [
        {
          "output_type": "stream",
          "text": [
            "Pnemonia_Virus_COVID  파일 개수 :  58\n",
            "Pnemonia_Virus_Unknown  파일 개수 :  1300\n",
            "Pnemonia_Bacteria  파일 개수 :  1300\n",
            "Normal  파일 개수 :  1300\n",
            "ok 3958\n"
          ],
          "name": "stdout"
        }
      ]
    },
    {
      "cell_type": "code",
      "metadata": {
        "id": "ZRd7JjlKgO1V",
        "colab_type": "code",
        "colab": {
          "base_uri": "https://localhost:8080/",
          "height": 54
        },
        "outputId": "37a02868-3071-4d13-9859-0e3f97dcc1c4"
      },
      "source": [
        "from keras.preprocessing.image import ImageDataGenerator, load_img\n",
        "test_data_dir = '/content/gdrive/My Drive/Colab Notebooks/DataScienceProject/Coronahack-Chest-XRay-Dataset/test'\n",
        "\n",
        "test_datagen = ImageDataGenerator(\n",
        "    rescale=1. / 255,\n",
        "    shear_range=0.2,\n",
        "    zoom_range=0.2,\n",
        "    horizontal_flip=True)\n",
        "\n",
        "test_generator = test_datagen.flow_from_directory(\n",
        "    test_data_dir,\n",
        "    target_size=(224, 224),\n",
        "    batch_size=10,\n",
        "    class_mode='categorical')"
      ],
      "execution_count": null,
      "outputs": [
        {
          "output_type": "stream",
          "text": [
            "Using TensorFlow backend.\n"
          ],
          "name": "stderr"
        },
        {
          "output_type": "stream",
          "text": [
            "Found 624 images belonging to 4 classes.\n"
          ],
          "name": "stdout"
        }
      ]
    },
    {
      "cell_type": "code",
      "metadata": {
        "id": "LxNqvifqOTQR",
        "colab_type": "code",
        "colab": {
          "base_uri": "https://localhost:8080/",
          "height": 108
        },
        "outputId": "ef9cc838-d0a8-4da1-f8ea-4829dd035a9d"
      },
      "source": [
        "#import os, glob, numpy as np\n",
        "from keras.models import Sequential\n",
        "from keras.layers import Conv2D, MaxPooling2D, Dense, Flatten, Dropout, AvgPool2D\n",
        "from keras.callbacks import EarlyStopping, ModelCheckpoint\n",
        "import matplotlib.pyplot as plt\n",
        "import keras.backend.tensorflow_backend as K\n",
        "\n",
        "import tensorflow as tf\n",
        "\n",
        "X_train, X_test, y_train, y_test = np.load('/content/gdrive/My Drive/Colab Notebooks/DataScienceProject/Coronahack-Chest-XRay-Dataset/multi_image_data.npy')\n",
        "#X_train, X_test, y_train, y_test = np.load('/content/gdrive/My Drive/Colab Notebooks/DataScienceProject/Coronahack-Chest-XRay-Dataset/multi_image_data_1300.npy')\n",
        "print(X_train.shape)\n",
        "print(X_train.shape[0])\n",
        "\n",
        "print(X_test.shape)\n",
        "print(X_test.shape[0])"
      ],
      "execution_count": null,
      "outputs": [
        {
          "output_type": "stream",
          "text": [
            "Using TensorFlow backend.\n"
          ],
          "name": "stderr"
        },
        {
          "output_type": "stream",
          "text": [
            "(2968, 224, 224, 3)\n",
            "2968\n",
            "(990, 224, 224, 3)\n",
            "990\n"
          ],
          "name": "stdout"
        }
      ]
    },
    {
      "cell_type": "code",
      "metadata": {
        "id": "GPzdGiJVOTS0",
        "colab_type": "code",
        "colab": {}
      },
      "source": [
        "categories = [\"Pnemonia_Virus_COVID\", \"Pnemonia_Virus_Unknown\", \"Pnemonia_Bacteria\", \"Normal\"]\n",
        "nb_classes = len(categories)\n",
        "\n",
        "#일반화\n",
        "X_train = X_train.astype(float) / 255\n",
        "X_test = X_test.astype(float) / 255"
      ],
      "execution_count": null,
      "outputs": []
    },
    {
      "cell_type": "code",
      "metadata": {
        "id": "WkfxofT5OTU6",
        "colab_type": "code",
        "colab": {}
      },
      "source": [
        "\"\"\"\n",
        "##############################################################################################\n",
        "model = Sequential()\n",
        "model.add(Conv2D(32, (3,3), padding=\"same\", input_shape=X_train.shape[1:], activation='relu'))\n",
        "model.add(MaxPooling2D(pool_size=(2,2)))\n",
        "model.add(Dropout(0.25))\n",
        "    \n",
        "model.add(Conv2D(64, (3,3), padding=\"same\", activation='relu'))\n",
        "model.add(MaxPooling2D(pool_size=(2,2)))\n",
        "model.add(Dropout(0.25))\n",
        "    \n",
        "model.add(Flatten())\n",
        "model.add(Dense(256, activation='relu'))\n",
        "model.add(Dropout(0.5))\n",
        "model.add(Dense(nb_classes, activation='softmax'))\n",
        "model.compile(loss='categorical_crossentropy', optimizer='adam', metrics=['accuracy'])\n",
        "model_dir = '/content/gdrive/My Drive/Colab Notebooks/DataScienceProject/Coronahack-Chest-XRay-Dataset/model'\n",
        "    \n",
        "if not os.path.exists(model_dir):\n",
        "    os.mkdir(model_dir)\n",
        "    \n",
        "model_path = model_dir + '/multi_img_classification.model'\n",
        "#checkpoint = ModelCheckpoint(filepath=model_path , monitor='val_loss', verbose=1, save_best_only=True)\n",
        "#early_stopping = EarlyStopping(monitor='val_loss', patience=6)\n",
        "##############################################################################################\n",
        "\"\"\"\n",
        "\n",
        "##############################################################################################\n",
        "model = Sequential()\n",
        "model.add(Conv2D(32, (3, 3), input_shape=X_train.shape[1:], activation='relu'))\n",
        "model.add(MaxPooling2D(pool_size=(2, 2)))\n",
        "\n",
        "model.add(Conv2D(32, (3, 3), activation='relu'))\n",
        "model.add(MaxPooling2D(pool_size=(2, 2)))\n",
        "\n",
        "model.add(Conv2D(64, (3, 3), activation='relu'))\n",
        "model.add(MaxPooling2D(pool_size=(2, 2)))\n",
        "\n",
        "model.add(Flatten())\n",
        "model.add(Dense(64))\n",
        "model.add(Dropout(0.5))\n",
        "\n",
        "# model = Sequential()\n",
        "# model.add(Conv2D(32, (3,3), padding=\"same\", input_shape=X_train.shape[1:], activation='relu'))\n",
        "# model.add(MaxPooling2D(pool_size=(2, 2)))\n",
        "\n",
        "# model.add(Conv2D(32, (3,3), padding=\"same\", activation='relu'))\n",
        "# model.add(MaxPooling2D(pool_size=(2, 2)))\n",
        "\n",
        "# model.add(Conv2D(64, (3,3), padding=\"same\", activation='relu'))\n",
        "# model.add(Conv2D(250, (3,3), padding=\"same\", activation='relu'))\n",
        "\n",
        "# model.add(Conv2D(128, (3,3), padding=\"same\", activation='relu'))\n",
        "# model.add(AvgPool2D(2, 2))\n",
        "# #model.add(MaxPooling2D(pool_size=(2, 2)))\n",
        "\n",
        "# model.add(Conv2D(64, (3,3), padding=\"same\", activation='relu'))\n",
        "# model.add(AvgPool2D(2, 2))\n",
        "# #model.add(MaxPooling2D(pool_size=(2, 2)))\n",
        "\n",
        "# model.add(Conv2D(256, (2,2), padding=\"same\", activation='relu'))\n",
        "# model.add(MaxPooling2D(pool_size=(2, 2)))\n",
        "    \n",
        "# model.add(Flatten())\n",
        "# model.add(Dense(32))\n",
        "# model.add(Dropout(0.25))\n",
        "\n",
        "model.add(Dense(nb_classes, activation='softmax'))\n",
        "\n",
        "model.compile(loss='categorical_crossentropy', optimizer='rmsprop', metrics=['accuracy'])\n",
        "model_dir = '/content/gdrive/My Drive/Colab Notebooks/DataScienceProject/Coronahack-Chest-XRay-Dataset/model'\n",
        "    \n",
        "if not os.path.exists(model_dir):\n",
        "    os.mkdir(model_dir)\n",
        "    \n",
        "model_path = model_dir + '/multi_img_classification.model'\n",
        "#checkpoint = ModelCheckpoint(filepath=model_path , monitor='val_loss', verbose=1, save_best_only=True)\n",
        "#early_stopping = EarlyStopping(monitor='val_loss', patience=6)\n",
        "##############################################################################################\n"
      ],
      "execution_count": null,
      "outputs": []
    },
    {
      "cell_type": "code",
      "metadata": {
        "id": "sGO6IY29uNws",
        "colab_type": "code",
        "colab": {
          "base_uri": "https://localhost:8080/",
          "height": 526
        },
        "outputId": "74e8a773-1997-4dd6-8210-8b36755a1ef9"
      },
      "source": [
        "model.summary()"
      ],
      "execution_count": null,
      "outputs": [
        {
          "output_type": "stream",
          "text": [
            "Model: \"sequential_1\"\n",
            "_________________________________________________________________\n",
            "Layer (type)                 Output Shape              Param #   \n",
            "=================================================================\n",
            "conv2d_1 (Conv2D)            (None, 222, 222, 32)      896       \n",
            "_________________________________________________________________\n",
            "max_pooling2d_1 (MaxPooling2 (None, 111, 111, 32)      0         \n",
            "_________________________________________________________________\n",
            "conv2d_2 (Conv2D)            (None, 109, 109, 32)      9248      \n",
            "_________________________________________________________________\n",
            "max_pooling2d_2 (MaxPooling2 (None, 54, 54, 32)        0         \n",
            "_________________________________________________________________\n",
            "conv2d_3 (Conv2D)            (None, 52, 52, 64)        18496     \n",
            "_________________________________________________________________\n",
            "max_pooling2d_3 (MaxPooling2 (None, 26, 26, 64)        0         \n",
            "_________________________________________________________________\n",
            "flatten_1 (Flatten)          (None, 43264)             0         \n",
            "_________________________________________________________________\n",
            "dense_1 (Dense)              (None, 64)                2768960   \n",
            "_________________________________________________________________\n",
            "dropout_1 (Dropout)          (None, 64)                0         \n",
            "_________________________________________________________________\n",
            "dense_2 (Dense)              (None, 4)                 260       \n",
            "=================================================================\n",
            "Total params: 2,797,860\n",
            "Trainable params: 2,797,860\n",
            "Non-trainable params: 0\n",
            "_________________________________________________________________\n"
          ],
          "name": "stdout"
        }
      ]
    },
    {
      "cell_type": "code",
      "metadata": {
        "id": "0BPA0QBsuNzk",
        "colab_type": "code",
        "colab": {
          "base_uri": "https://localhost:8080/",
          "height": 399
        },
        "outputId": "3806608e-d624-4266-8d4a-be69e7634144"
      },
      "source": [
        "#model.fit(입력데이터, 라벨값, 몇개의 샘플로 가중치 갱신, 학습 반복 횟수)\n",
        "#history = model.fit(X_train, y_train, batch_size=32, epochs=50, validation_data=(X_test, y_test), callbacks=[checkpoint, early_stopping])\n",
        "history = model.fit(X_train, y_train, batch_size=32, epochs=10, validation_data=(X_test, y_test))"
      ],
      "execution_count": null,
      "outputs": [
        {
          "output_type": "stream",
          "text": [
            "Train on 2968 samples, validate on 990 samples\n",
            "Epoch 1/10\n",
            "2968/2968 [==============================] - 13s 4ms/step - loss: 1.3127 - accuracy: 0.5923 - val_loss: 0.6751 - val_accuracy: 0.7091\n",
            "Epoch 2/10\n",
            "2968/2968 [==============================] - 10s 4ms/step - loss: 0.6785 - accuracy: 0.7247 - val_loss: 0.5688 - val_accuracy: 0.7596\n",
            "Epoch 3/10\n",
            "2968/2968 [==============================] - 10s 4ms/step - loss: 0.5407 - accuracy: 0.7726 - val_loss: 0.4975 - val_accuracy: 0.7758\n",
            "Epoch 4/10\n",
            "2968/2968 [==============================] - 10s 4ms/step - loss: 0.4690 - accuracy: 0.7948 - val_loss: 0.4837 - val_accuracy: 0.7939\n",
            "Epoch 5/10\n",
            "2968/2968 [==============================] - 10s 4ms/step - loss: 0.4307 - accuracy: 0.8282 - val_loss: 0.5815 - val_accuracy: 0.7475\n",
            "Epoch 6/10\n",
            "2968/2968 [==============================] - 10s 4ms/step - loss: 0.3727 - accuracy: 0.8427 - val_loss: 0.5013 - val_accuracy: 0.7828\n",
            "Epoch 7/10\n",
            "2968/2968 [==============================] - 10s 4ms/step - loss: 0.3420 - accuracy: 0.8565 - val_loss: 0.5117 - val_accuracy: 0.8030\n",
            "Epoch 8/10\n",
            "2968/2968 [==============================] - 10s 4ms/step - loss: 0.3070 - accuracy: 0.8710 - val_loss: 0.5256 - val_accuracy: 0.7889\n",
            "Epoch 9/10\n",
            "2968/2968 [==============================] - 10s 4ms/step - loss: 0.2607 - accuracy: 0.8858 - val_loss: 0.5565 - val_accuracy: 0.7929\n",
            "Epoch 10/10\n",
            "2968/2968 [==============================] - 10s 4ms/step - loss: 0.2353 - accuracy: 0.9030 - val_loss: 0.6597 - val_accuracy: 0.7838\n"
          ],
          "name": "stdout"
        }
      ]
    },
    {
      "cell_type": "code",
      "metadata": {
        "id": "CSydT3ebuN2J",
        "colab_type": "code",
        "colab": {
          "base_uri": "https://localhost:8080/",
          "height": 72
        },
        "outputId": "3cda7954-687c-4471-fe19-0924f12fc5f8"
      },
      "source": [
        "#print(\"정확도 : %.4f\" % (model.evaluate(X_test, y_test)[1]))\n",
        "\n",
        "# 모델 평가하기 \n",
        "score = model.evaluate(X_test, y_test)\n",
        "print('loss=', score[0])        # loss\n",
        "print('accuracy=', score[1])    # acc"
      ],
      "execution_count": null,
      "outputs": [
        {
          "output_type": "stream",
          "text": [
            "1320/1320 [==============================] - 3s 2ms/step\n",
            "loss= 0.48420025904973346\n",
            "accuracy= 0.7977272868156433\n"
          ],
          "name": "stdout"
        }
      ]
    },
    {
      "cell_type": "code",
      "metadata": {
        "id": "VMcFk4R5uN4x",
        "colab_type": "code",
        "colab": {
          "base_uri": "https://localhost:8080/",
          "height": 279
        },
        "outputId": "5bed7d00-ae66-44c6-b0d1-11a1a495a421"
      },
      "source": [
        "y_vloss = history.history['val_loss']\n",
        "y_loss = history.history['loss']\n",
        "\n",
        "x_len = np.arange(len(y_loss))\n",
        "\n",
        "plt.plot(x_len, y_vloss, marker='.', c='red', label='val_set_loss')\n",
        "plt.plot(x_len, y_loss, marker='.', c='blue', label='train_set_oss')\n",
        "plt.legend()\n",
        "plt.xlabel('epochs')\n",
        "plt.ylabel('loss')\n",
        "plt.grid()\n",
        "plt.show()"
      ],
      "execution_count": null,
      "outputs": [
        {
          "output_type": "display_data",
          "data": {
            "image/png": "[encoded data removed]",
            "text/plain": [
              "<Figure size 432x288 with 1 Axes>"
            ]
          },
          "metadata": {
            "tags": [],
            "needs_background": "light"
          }
        }
      ]
    },
    {
      "cell_type": "code",
      "metadata": {
        "id": "u0CkHrXzWSbz",
        "colab_type": "code",
        "colab": {
          "base_uri": "https://localhost:8080/",
          "height": 54
        },
        "outputId": "4aee0887-d42f-48a0-a124-6fd771e7d2a4"
      },
      "source": [
        "scores = model.evaluate_generator(test_generator)\n",
        "print(\"\\n%s: %.2f%%\" % (model.metrics_names[1], scores[1]*100))"
      ],
      "execution_count": null,
      "outputs": [
        {
          "output_type": "stream",
          "text": [
            "\n",
            "accuracy: 7.53%\n"
          ],
          "name": "stdout"
        }
      ]
    },
    {
      "cell_type": "code",
      "metadata": {
        "id": "aTW57pgYW8NJ",
        "colab_type": "code",
        "colab": {
          "base_uri": "https://localhost:8080/",
          "height": 35
        },
        "outputId": "f6182b61-63a8-42c8-ef78-6c4b8481653a"
      },
      "source": [
        "scores"
      ],
      "execution_count": null,
      "outputs": [
        {
          "output_type": "execute_result",
          "data": {
            "text/plain": [
              "[5.169804573059082, 0.07532051205635071]"
            ]
          },
          "metadata": {
            "tags": []
          },
          "execution_count": 15
        }
      ]
    },
    {
      "cell_type": "code",
      "metadata": {
        "id": "BJcbd3BNhTTd",
        "colab_type": "code",
        "colab": {
          "base_uri": "https://localhost:8080/",
          "height": 35
        },
        "outputId": "ee844699-e58b-4914-f369-fce385cb0f29"
      },
      "source": [
        "# 적용해볼 이미지 \n",
        "test_image = '/content/gdrive/My Drive/Colab Notebooks/DataScienceProject/Coronahack-Chest-XRay-Dataset/imgs_others_test/person1_virus_6.jpeg'\n",
        "# 이미지 resize\n",
        "img = Image.open(test_image)\n",
        "img = img.convert(\"RGB\")\n",
        "img = img.resize((224,224))\n",
        "data = np.asarray(img)\n",
        "\n",
        "X = np.array(data)\n",
        "X = X.astype(\"float\") / 256\n",
        "X = X.reshape(-1, 224, 224,3)\n",
        "# 예측\n",
        "pred = model.predict(X)  \n",
        "result = [np.argmax(value) for value in pred]   # 예측 값중 가장 높은 클래스 반환\n",
        "print('New data category : ',categories[result[0]])"
      ],
      "execution_count": null,
      "outputs": [
        {
          "output_type": "stream",
          "text": [
            "New data category :  Pnemonia_Bacteria\n"
          ],
          "name": "stdout"
        }
      ]
    },
    {
      "cell_type": "code",
      "metadata": {
        "id": "B8_IDSzwuN7T",
        "colab_type": "code",
        "colab": {
          "base_uri": "https://localhost:8080/",
          "height": 35
        },
        "outputId": "9ffd2575-d729-4211-8531-52eaa24ef49f"
      },
      "source": [
        "from PIL import Image\n",
        "import os, glob, numpy as np\n",
        "from keras.models import load_model\n",
        "\n",
        "file_dir = \"/content/gdrive/My Drive/Colab Notebooks/DataScienceProject/Coronahack-Chest-XRay-Dataset/test\"\n",
        "#file_dir = \"/content/gdrive/My Drive/Colab Notebooks/DataScienceProject/Coronahack-Chest-XRay-Dataset/imgs_others_test\"\n",
        "\n",
        "categories = [\"Pnemonia_Virus_COVID\", \"Pnemonia_Virus_Unknown\", \"Pnemonia_Bacteria\", \"Normal\"]\n",
        "\n",
        "image_w = 224\n",
        "image_h = 224\n",
        "\n",
        "X = []\n",
        "filenames = []\n",
        "labels = []\n",
        "label = 0\n",
        "\n",
        "sample_cnt = {0:0, 1:10, 2:100, 3:10}\n",
        "\n",
        "for idx, cat in enumerate(categories):\n",
        "  image_dir = file_dir + \"/\" + cat\n",
        "  files = glob.glob(image_dir+\"/*.*\")\n",
        "  files = files[:sample_cnt[idx]]\n",
        "  #print(cat, \" 파일 개수 : \", len(files))\n",
        "\n",
        "  for i, f in enumerate(files):\n",
        "    img = Image.open(f)\n",
        "    img = img.convert(\"RGB\")\n",
        "    img = img.resize((image_w, image_h))\n",
        "    data = np.asarray(img)\n",
        "    filenames.append(f)\n",
        "    X.append(data)\n",
        "    labels.append(label)\n",
        "    #print(f)\n",
        "\n",
        "  label += 1\n",
        "\n",
        "X = np.array(X)\n",
        "#model = load_model('/content/gdrive/My Drive/Colab Notebooks/CoronaHack_Chest_X_Ray/model/multi_img_classification.model')\n",
        "\n",
        "prediction = model.predict(X)\n",
        "np.set_printoptions(formatter={'float': lambda x: \"{0:0.3f}\".format(x)})\n",
        "\n",
        "#print(prediction)\n",
        "pred = prediction.argmax(axis=1)\n",
        "# unique, counts = np.unique(pred, return_counts=True)\n",
        "# dict_pred = dict(zip(unique, counts))\n",
        "# print(prediction.argmax(axis=1))\n",
        "# print(dict_pred[3])\n",
        "\n",
        "cnt = 0\n",
        "length = len(pred)\n",
        "for i in range(length):\n",
        "  if(pred[i] == labels[i]):\n",
        "    cnt += 1\n",
        "print('예측 정확도 : ' + str(cnt/length*100) + '%')\n"
      ],
      "execution_count": null,
      "outputs": [
        {
          "output_type": "stream",
          "text": [
            "45.57823129251701\n"
          ],
          "name": "stdout"
        }
      ]
    },
    {
      "cell_type": "code",
      "metadata": {
        "id": "kYXZ7CQ2uN9x",
        "colab_type": "code",
        "colab": {
          "base_uri": "https://localhost:8080/",
          "height": 297
        },
        "outputId": "7b5e91c6-2dd4-44e3-9f31-c7d61f84aaec"
      },
      "source": [
        "#이 비교는 그냥 파일들이 있으면 해당 파일과 비교. 카테고리와 함께 비교해서 진행하는 것은 _4 파일.\n",
        "for i in prediction:\n",
        "    pre_ans = i.argmax()  # 예측 레이블\n",
        "    print(i)\n",
        "    print(pre_ans)\n",
        "    pre_ans_str = ''\n",
        "    if pre_ans == 0: pre_ans_str = \"Pnemonia_Virus_COVID\"\n",
        "    elif pre_ans == 1: pre_ans_str = \"Pnemonia_Virus_Unknown\"\n",
        "    elif pre_ans == 2: pre_ans_str = \"Pnemonia_Bacteria\"\n",
        "    else: pre_ans_str = \"Normal\"\n",
        "\n",
        "    if i[0] >= 0.8 : print(\"해당 \"+filenames[cnt].split(\"\\\\\")[1]+\"이미지는 \"+pre_ans_str+\"로 추정됩니다.\")\n",
        "    if i[1] >= 0.8: print(\"해당 \"+filenames[cnt].split(\"\\\\\")[1]+\"이미지는 \"+pre_ans_str+\"으로 추정됩니다.\")\n",
        "    if i[2] >= 0.8: print(\"해당 \"+filenames[cnt].split(\"\\\\\")[1]+\"이미지는 \"+pre_ans_str+\"로 추정됩니다.\")\n",
        "    if i[3] >= 0.8: print(\"해당 \"+filenames[cnt].split(\"\\\\\")[1]+\"이미지는 \"+pre_ans_str+\"로 추정됩니다.\")\n",
        "\n",
        "    cnt += 1\n",
        "    # print(i.argmax()) #얘가 레이블 [1. 0. 0.] 이런식으로 되어 있는 것을 숫자로 바꿔주는 것.\n",
        "    # 즉 얘랑, 나중에 카테고리 데이터 불러와서 카테고리랑 비교를 해서 같으면 맞는거고, 아니면 틀린거로 취급하면 된다.\n",
        "    # 이걸 한 것은 _4.py에."
      ],
      "execution_count": null,
      "outputs": [
        {
          "output_type": "stream",
          "text": [
            "[0.000 0.000 1.000 0.000]\n",
            "2\n"
          ],
          "name": "stdout"
        },
        {
          "output_type": "error",
          "ename": "IndexError",
          "evalue": "ignored",
          "traceback": [
            "\u001b[0;31m---------------------------------------------------------------------------\u001b[0m",
            "\u001b[0;31mIndexError\u001b[0m                                Traceback (most recent call last)",
            "\u001b[0;32m<ipython-input-49-78dafdce9258>\u001b[0m in \u001b[0;36m<module>\u001b[0;34m()\u001b[0m\n\u001b[1;32m     12\u001b[0m     \u001b[0;32mif\u001b[0m \u001b[0mi\u001b[0m\u001b[0;34m[\u001b[0m\u001b[0;36m0\u001b[0m\u001b[0;34m]\u001b[0m \u001b[0;34m>=\u001b[0m \u001b[0;36m0.8\u001b[0m \u001b[0;34m:\u001b[0m \u001b[0mprint\u001b[0m\u001b[0;34m(\u001b[0m\u001b[0;34m\"해당 \"\u001b[0m\u001b[0;34m+\u001b[0m\u001b[0mfilenames\u001b[0m\u001b[0;34m[\u001b[0m\u001b[0mcnt\u001b[0m\u001b[0;34m]\u001b[0m\u001b[0;34m.\u001b[0m\u001b[0msplit\u001b[0m\u001b[0;34m(\u001b[0m\u001b[0;34m\"\\\\\"\u001b[0m\u001b[0;34m)\u001b[0m\u001b[0;34m[\u001b[0m\u001b[0;36m1\u001b[0m\u001b[0;34m]\u001b[0m\u001b[0;34m+\u001b[0m\u001b[0;34m\"이미지는 \"\u001b[0m\u001b[0;34m+\u001b[0m\u001b[0mpre_ans_str\u001b[0m\u001b[0;34m+\u001b[0m\u001b[0;34m\"로 추정됩니다.\"\u001b[0m\u001b[0;34m)\u001b[0m\u001b[0;34m\u001b[0m\u001b[0;34m\u001b[0m\u001b[0m\n\u001b[1;32m     13\u001b[0m     \u001b[0;32mif\u001b[0m \u001b[0mi\u001b[0m\u001b[0;34m[\u001b[0m\u001b[0;36m1\u001b[0m\u001b[0;34m]\u001b[0m \u001b[0;34m>=\u001b[0m \u001b[0;36m0.8\u001b[0m\u001b[0;34m:\u001b[0m \u001b[0mprint\u001b[0m\u001b[0;34m(\u001b[0m\u001b[0;34m\"해당 \"\u001b[0m\u001b[0;34m+\u001b[0m\u001b[0mfilenames\u001b[0m\u001b[0;34m[\u001b[0m\u001b[0mcnt\u001b[0m\u001b[0;34m]\u001b[0m\u001b[0;34m.\u001b[0m\u001b[0msplit\u001b[0m\u001b[0;34m(\u001b[0m\u001b[0;34m\"\\\\\"\u001b[0m\u001b[0;34m)\u001b[0m\u001b[0;34m[\u001b[0m\u001b[0;36m1\u001b[0m\u001b[0;34m]\u001b[0m\u001b[0;34m+\u001b[0m\u001b[0;34m\"이미지는 \"\u001b[0m\u001b[0;34m+\u001b[0m\u001b[0mpre_ans_str\u001b[0m\u001b[0;34m+\u001b[0m\u001b[0;34m\"으로 추정됩니다.\"\u001b[0m\u001b[0;34m)\u001b[0m\u001b[0;34m\u001b[0m\u001b[0;34m\u001b[0m\u001b[0m\n\u001b[0;32m---> 14\u001b[0;31m     \u001b[0;32mif\u001b[0m \u001b[0mi\u001b[0m\u001b[0;34m[\u001b[0m\u001b[0;36m2\u001b[0m\u001b[0;34m]\u001b[0m \u001b[0;34m>=\u001b[0m \u001b[0;36m0.8\u001b[0m\u001b[0;34m:\u001b[0m \u001b[0mprint\u001b[0m\u001b[0;34m(\u001b[0m\u001b[0;34m\"해당 \"\u001b[0m\u001b[0;34m+\u001b[0m\u001b[0mfilenames\u001b[0m\u001b[0;34m[\u001b[0m\u001b[0mcnt\u001b[0m\u001b[0;34m]\u001b[0m\u001b[0;34m.\u001b[0m\u001b[0msplit\u001b[0m\u001b[0;34m(\u001b[0m\u001b[0;34m\"\\\\\"\u001b[0m\u001b[0;34m)\u001b[0m\u001b[0;34m[\u001b[0m\u001b[0;36m1\u001b[0m\u001b[0;34m]\u001b[0m\u001b[0;34m+\u001b[0m\u001b[0;34m\"이미지는 \"\u001b[0m\u001b[0;34m+\u001b[0m\u001b[0mpre_ans_str\u001b[0m\u001b[0;34m+\u001b[0m\u001b[0;34m\"로 추정됩니다.\"\u001b[0m\u001b[0;34m)\u001b[0m\u001b[0;34m\u001b[0m\u001b[0;34m\u001b[0m\u001b[0m\n\u001b[0m\u001b[1;32m     15\u001b[0m     \u001b[0;32mif\u001b[0m \u001b[0mi\u001b[0m\u001b[0;34m[\u001b[0m\u001b[0;36m3\u001b[0m\u001b[0;34m]\u001b[0m \u001b[0;34m>=\u001b[0m \u001b[0;36m0.8\u001b[0m\u001b[0;34m:\u001b[0m \u001b[0mprint\u001b[0m\u001b[0;34m(\u001b[0m\u001b[0;34m\"해당 \"\u001b[0m\u001b[0;34m+\u001b[0m\u001b[0mfilenames\u001b[0m\u001b[0;34m[\u001b[0m\u001b[0mcnt\u001b[0m\u001b[0;34m]\u001b[0m\u001b[0;34m.\u001b[0m\u001b[0msplit\u001b[0m\u001b[0;34m(\u001b[0m\u001b[0;34m\"\\\\\"\u001b[0m\u001b[0;34m)\u001b[0m\u001b[0;34m[\u001b[0m\u001b[0;36m1\u001b[0m\u001b[0;34m]\u001b[0m\u001b[0;34m+\u001b[0m\u001b[0;34m\"이미지는 \"\u001b[0m\u001b[0;34m+\u001b[0m\u001b[0mpre_ans_str\u001b[0m\u001b[0;34m+\u001b[0m\u001b[0;34m\"로 추정됩니다.\"\u001b[0m\u001b[0;34m)\u001b[0m\u001b[0;34m\u001b[0m\u001b[0;34m\u001b[0m\u001b[0m\n\u001b[1;32m     16\u001b[0m \u001b[0;34m\u001b[0m\u001b[0m\n",
            "\u001b[0;31mIndexError\u001b[0m: list index out of range"
          ]
        }
      ]
    }
  ]
}